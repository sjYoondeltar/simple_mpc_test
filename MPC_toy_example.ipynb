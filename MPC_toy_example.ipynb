{
  "nbformat": 4,
  "nbformat_minor": 0,
  "metadata": {
    "colab": {
      "name": "MPC_toy_example.ipynb",
      "version": "0.3.2",
      "provenance": [],
      "collapsed_sections": []
    },
    "kernelspec": {
      "name": "python3",
      "display_name": "Python 3"
    }
  },
  "cells": [
    {
      "metadata": {
        "id": "C3Q8WUir4fEr",
        "colab_type": "code",
        "colab": {}
      },
      "cell_type": "code",
      "source": [
        "import cvxpy as cp\n",
        "import numpy as np\n",
        "from scipy.special import ndtri\n",
        "import matplotlib.pyplot as plt\n",
        "\n",
        "from IPython.display import clear_output"
      ],
      "execution_count": 0,
      "outputs": []
    },
    {
      "metadata": {
        "id": "JJNBM8_B6KyR",
        "colab_type": "code",
        "colab": {}
      },
      "cell_type": "code",
      "source": [
        "class simple_env(object):\n",
        "  def __init__(self, sig=5, x_o_init=15):\n",
        "    self.T = 0.1\n",
        "    self.A = np.matrix([[0,1],[0,0]])\n",
        "    self.B = np.matrix([[0],[1]])\n",
        "    \n",
        "    self.Bw = np.matrix([[0],[1]])\n",
        "  \n",
        "    self.Ad = np.identity(2) + self.T * self.A\n",
        "    self.Bd = self.T * self.B\n",
        "    self.Bwd = self.T * self.Bw\n",
        "      \n",
        "    self.x_o_init= x_o_init\n",
        "      \n",
        "    self.x=np.matrix([[0],[10]])\n",
        "    self.x_obstacle=np.matrix([[self.x_o_init],[13]])\n",
        "      \n",
        "    self.sig = sig\n",
        "  \n",
        "  def reset(self):\n",
        "    \n",
        "    self.x=np.matrix([[0],[10]])\n",
        "    self.x_obstacle=np.matrix([[self.x_o_init],[13]])\n",
        "    \n",
        "    x=np.array(self.x)\n",
        "    x_obstacle=np.array(self.x_obstacle)\n",
        "    \n",
        "    return x_obstacle[0][0]-x[0][0], x[1][0], x_obstacle[1][0]\n",
        "  \n",
        "  def step(self, a):\n",
        "    \n",
        "    self.x=np.matmul(self.Ad, self.x) + self.Bd*a\n",
        "    self.x_obstacle=np.matmul(self.Ad, self.x_obstacle) + self.Bwd*self.sig*np.random.randn(1)\n",
        "    \n",
        "    x=np.array(self.x)\n",
        "    x_obstacle=np.array(self.x_obstacle)\n",
        "    \n",
        "    return x_obstacle[0][0]-x[0][0], x[1][0], x_obstacle[1][0]"
      ],
      "execution_count": 0,
      "outputs": []
    },
    {
      "metadata": {
        "id": "mPHltCaRCPQ9",
        "colab_type": "code",
        "colab": {}
      },
      "cell_type": "code",
      "source": [
        "env = simple_env(sig=0.2)"
      ],
      "execution_count": 0,
      "outputs": []
    },
    {
      "metadata": {
        "id": "Qn5Ba-VApBLp",
        "colab_type": "code",
        "colab": {}
      },
      "cell_type": "code",
      "source": [
        "class simple_MPC(object):\n",
        "  def __init__(self, A, B, N, T, sig,\n",
        "               u_max = 2,\n",
        "               u_min = -4,\n",
        "               du_max = 0.5,\n",
        "               du_min = -1,\n",
        "               v_ref=15,\n",
        "               eps=0.1\n",
        "              ):\n",
        "    \n",
        "    self.T = T\n",
        "    self.A = A\n",
        "    self.B = B\n",
        "    self.N = N\n",
        "    self.v_ref = v_ref\n",
        "    self.u_max = u_max\n",
        "    self.u_min = u_min\n",
        "    self.du_max = du_max\n",
        "    self.du_min = du_min\n",
        "    self.safety_dis = 5\n",
        "    self.eps=eps\n",
        "    \n",
        "    self.Bw = B\n",
        "  \n",
        "    self.Ad = np.eye(2) + self.T * self.A\n",
        "    self.Bd = self.T * self.B\n",
        "    self.Bwd = self.T * self.B\n",
        "    \n",
        "    self.x = cp.Variable((2, N+1))\n",
        "    self.u = cp.Variable((1, N))\n",
        "    \n",
        "    # the front obstacle position prediction\n",
        "    self.x_o = cp.Parameter((1, N+1))\n",
        "    \n",
        "    # initial condition parameter\n",
        "    self.x_int = cp.Parameter((2, ))\n",
        "    self.u_int = cp.Parameter()\n",
        "      \n",
        "    self.sig = sig\n",
        "    \n",
        "    self.cost_base, self.constr_base = self._forward_extension(self.Ad, self.Bd, self.x, self.u, self.x_o, self.x_int, self.u_int)\n",
        "    \n",
        "  def _forward_extension(self, A, B, x, u, x_o, x_int, u_int):\n",
        "    cost = 0\n",
        "    constr = []\n",
        "    \n",
        "    for n in range(self.N):\n",
        "      \n",
        "      #transition\n",
        "      constr += [x[:,n+1] == A*x[:,n] + B*u[:,n]]\n",
        "      \n",
        "      #input boundary\n",
        "      constr += [u[:,n] >= self.u_min, u[:,n] <= self.u_max]\n",
        "      if n+1 < self.N:\n",
        "        constr += [u[:,n+1]-u[:,n] >= self.du_min, u[:,n+1]-u[:,n] <= self.du_max] \n",
        "      \n",
        "      #safety distance constraint\n",
        "      constr += [np.matrix([[1,0]])*x[:, n+1] + self.safety_dis - x_o[:, n+1] <= 0]\n",
        "      \n",
        "      cost += cp.sum_squares(x[1,n+1]-self.v_ref) + 0.1 * cp.sum_squares(u[:,n])\n",
        "      \n",
        "    #initial condition constraint\n",
        "    constr += [x[:,0]==x_int]\n",
        "    constr += [u[:,0]-u_int >= self.du_min, u[:,0]-u_int <= self.du_max]\n",
        "    \n",
        "    return cost, constr\n",
        "    \n",
        "  \n",
        "  def plan_u(self, d_0, v_0, v_f, u_int):\n",
        "    \n",
        "    self.x_o.value = self.disturbance_sampling(np.matrix([[d_0],[v_f]]))\n",
        "    \n",
        "    self.x_int.value = np.array([0, v_0])\n",
        "    self.u_int.value = u_int\n",
        "    \n",
        "    problem = cp.Problem(cp.Minimize(self.cost_base), self.constr_base)\n",
        "    problem.solve()\n",
        "    \n",
        "    return self.x.value, self.u.value, problem.status, self.x_o.value\n",
        "  \n",
        "  def disturbance_sampling(self, s_o):\n",
        "    \n",
        "    x_o=[]\n",
        "    P_o=np.zeros([2,2])\n",
        "    \n",
        "    x_o.append(s_o[0,:])\n",
        "    \n",
        "    for _ in range(self.N):\n",
        "      \n",
        "      s_o=np.matmul(self.Ad, s_o)\n",
        "      P_o=self.Ad*P_o*self.Ad.T + self.Bd*(self.sig**2)*self.Bd.T\n",
        "      \n",
        "      x_o.append(s_o[0,:] + ndtri(self.eps)*P_o[1, 1])\n",
        "      \n",
        "    x_o = np.vstack(x_o)\n",
        "      \n",
        "    return x_o.T\n",
        "    "
      ],
      "execution_count": 0,
      "outputs": []
    },
    {
      "metadata": {
        "id": "ZISApa_t2iw-",
        "colab_type": "code",
        "colab": {}
      },
      "cell_type": "code",
      "source": [
        "def plot():\n",
        "    clear_output(True)\n",
        "    plt.figure(figsize=(8, 16))\n",
        "    plt.subplot(211)\n",
        "    plt.plot(np.vstack(step_list), np.vstack(d_list))\n",
        "    plt.ylabel('distance')\n",
        "    plt.subplot(212)\n",
        "    plt.plot(np.vstack(step_list), np.vstack(v_list))\n",
        "    plt.ylabel('velocity')\n",
        "    plt.xlabel('time')\n",
        "    plt.show()"
      ],
      "execution_count": 0,
      "outputs": []
    },
    {
      "metadata": {
        "id": "LgAQhUzSqdFy",
        "colab_type": "code",
        "colab": {}
      },
      "cell_type": "code",
      "source": [
        "np.random.seed(1234)\n",
        "N_step = 10\n",
        "dT = 0.4\n",
        "controller = simple_MPC(env.A, env.B, N_step, dT, env.sig)"
      ],
      "execution_count": 0,
      "outputs": []
    },
    {
      "metadata": {
        "id": "L_Q74UCsCWyY",
        "colab_type": "code",
        "outputId": "78f75adb-b8d5-4da5-df30-b6cc458b0d2e",
        "colab": {
          "base_uri": "https://localhost:8080/",
          "height": 932
        }
      },
      "cell_type": "code",
      "source": [
        "d, v_s, v_f = env.reset()\n",
        "\n",
        "print(d)\n",
        "print(v_s)\n",
        "print(v_f)\n",
        "\n",
        "step_list=[]\n",
        "d_list=[]\n",
        "v_list=[]\n",
        "u_last=0\n",
        "\n",
        "for step in range(0, 200):\n",
        "  \n",
        "  if step % 4 ==0:\n",
        "    # every 4s, controller plans u\n",
        "    x_pre, u_pre, status, x_o_pre = controller.plan_u(d, v_s, v_f, u_last)\n",
        "    print('status : ', status)\n",
        "    u_last = u_pre[0,0]\n",
        "  \n",
        "  d, v_s, v_f = env.step(u_last)\n",
        "  print('Distance : {:.4}'.format(d))\n",
        "  print('velocity : {:.4}'.format(v_s))\n",
        "  print('obstacle velocity : {:.4}'.format(v_f))\n",
        "  #print('obstacle collision prediction: ', x_pre[0] + controller.safety_dis > x_o_pre)\n",
        "  np.set_printoptions(precision=3, suppress=True)\n",
        "  \n",
        "  \n",
        "  step_list.append(np.array(env.T*step))\n",
        "  d_list.append(np.array(d))\n",
        "  v_list.append(np.array(v_s))\n",
        "  \n",
        "  plot()\n",
        "  \n"
      ],
      "execution_count": 0,
      "outputs": [
        {
          "output_type": "display_data",
          "data": {
            "image/png": "[encoded data removed]",
            "text/plain": [
              "<Figure size 576x1152 with 2 Axes>"
            ]
          },
          "metadata": {
            "tags": []
          }
        }
      ]
    }
  ]
}